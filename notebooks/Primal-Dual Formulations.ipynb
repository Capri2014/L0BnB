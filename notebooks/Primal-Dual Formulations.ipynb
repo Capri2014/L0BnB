{
 "cells": [
  {
   "cell_type": "code",
   "execution_count": 98,
   "metadata": {},
   "outputs": [],
   "source": [
    "from generate_data import GenData\n",
    "\n",
    "dataset = \"I\"\n",
    "parameter = 0.9\n",
    "n = 100\n",
    "p = 10\n",
    "supp_size = 5\n",
    "snr = 1000\n",
    "\n",
    "X, y, coefs_true, cov = GenData(dataset, parameter, n, p, supp_size, snr)"
   ]
  },
  {
   "cell_type": "code",
   "execution_count": 93,
   "metadata": {},
   "outputs": [
    {
     "data": {
      "text/plain": [
       "array([1., 0., 1., 0., 1., 0., 1., 0., 1., 0.])"
      ]
     },
     "execution_count": 93,
     "metadata": {},
     "output_type": "execute_result"
    }
   ],
   "source": [
    "coefs_true"
   ]
  },
  {
   "cell_type": "code",
   "execution_count": 134,
   "metadata": {},
   "outputs": [
    {
     "name": "stdout",
     "output_type": "stream",
     "text": [
      "Built obj\n",
      "Defined problem\n",
      "\n",
      "\n",
      "Problem\n",
      "  Name                   :                 \n",
      "  Objective sense        : min             \n",
      "  Type                   : CONIC (conic optimization problem)\n",
      "  Constraints            : 192             \n",
      "  Cones                  : 11              \n",
      "  Scalar variables       : 173             \n",
      "  Matrix variables       : 0               \n",
      "  Integer variables      : 0               \n",
      "\n",
      "Optimizer started.\n",
      "Problem\n",
      "  Name                   :                 \n",
      "  Objective sense        : min             \n",
      "  Type                   : CONIC (conic optimization problem)\n",
      "  Constraints            : 192             \n",
      "  Cones                  : 11              \n",
      "  Scalar variables       : 173             \n",
      "  Matrix variables       : 0               \n",
      "  Integer variables      : 0               \n",
      "\n",
      "Optimizer  - threads                : 24              \n",
      "Optimizer  - solved problem         : the primal      \n",
      "Optimizer  - Constraints            : 141\n",
      "Optimizer  - Cones                  : 11\n",
      "Optimizer  - Scalar variables       : 182               conic                  : 132             \n",
      "Optimizer  - Semi-definite variables: 0                 scalarized             : 0               \n",
      "Factor     - setup time             : 0.00              dense det. time        : 0.00            \n",
      "Factor     - ML order time          : 0.00              GP order time          : 0.00            \n",
      "Factor     - nonzeros before factor : 9251              after factor           : 1.00e+04        \n",
      "Factor     - dense dim.             : 0                 flops                  : 1.17e+06        \n",
      "ITE PFEAS    DFEAS    GFEAS    PRSTATUS   POBJ              DOBJ              MU       TIME  \n",
      "0   2.3e+00  1.0e+00  1.0e+00  0.00e+00   5.000000000e-01   5.000000000e-01   1.0e+00  0.00  \n",
      "1   5.5e-01  2.4e-01  3.7e-01  -4.29e-01  3.755408824e+00   5.440473385e+00   2.4e-01  0.02  \n",
      "2   2.4e-01  1.0e-01  1.9e-01  -5.44e-01  1.366429346e+01   1.636651522e+01   1.0e-01  0.02  \n",
      "3   1.6e-01  6.8e-02  6.2e-02  8.18e-01   3.322295231e+01   3.373181362e+01   6.8e-02  0.03  \n",
      "4   3.5e-02  1.5e-02  5.1e-03  4.05e-02   5.927051974e+01   5.931244443e+01   1.5e-02  0.03  \n",
      "5   4.7e-03  2.0e-03  1.3e-04  1.47e+00   6.294022233e+01   6.293711518e+01   2.0e-03  0.03  \n",
      "6   1.8e-04  7.5e-05  5.6e-07  1.19e+00   6.313149644e+01   6.313129718e+01   7.5e-05  0.03  \n",
      "7   1.5e-05  6.3e-06  2.0e-08  1.00e+00   6.313118114e+01   6.313116901e+01   6.3e-06  0.03  \n",
      "8   1.8e-06  7.6e-07  2.2e-09  1.00e+00   6.313091513e+01   6.313092078e+01   7.6e-07  0.04  \n",
      "9   3.5e-07  1.5e-07  1.8e-10  1.00e+00   6.313102472e+01   6.313102566e+01   1.5e-07  0.04  \n",
      "10  1.6e-08  7.8e-09  9.5e-13  9.98e-01   6.313104961e+01   6.313104960e+01   7.5e-09  0.04  \n",
      "11  4.6e-09  2.3e-09  2.0e-13  1.00e+00   6.313105010e+01   6.313105011e+01   2.2e-09  0.04  \n",
      "Optimizer terminated. Time: 0.05    \n",
      "\n",
      "\n",
      "Interior-point solution summary\n",
      "  Problem status  : PRIMAL_AND_DUAL_FEASIBLE\n",
      "  Solution status : OPTIMAL\n",
      "  Primal.  obj: 6.3131050100e+01    nrm: 1e+02    Viol.  con: 4e-08    var: 0e+00    cones: 0e+00  \n",
      "  Dual.    obj: 6.3131050111e+01    nrm: 8e+01    Viol.  con: 2e-13    var: 8e-10    cones: 0e+00  \n"
     ]
    }
   ],
   "source": [
    "'''\n",
    "Primal of relaxation\n",
    "'''\n",
    "\n",
    "import cvxpy as cp\n",
    "import numpy as np\n",
    "from itertools import chain\n",
    "\n",
    "# lambda_0 = 0.001\n",
    "# lambda_2 = 0.1\n",
    "# M = 0.3\n",
    "\n",
    "lambda_0 = 0.001\n",
    "lambda_2 = 0.1\n",
    "M = 0.005\n",
    "\n",
    "\n",
    "\n",
    "n, p = X.shape\n",
    "\n",
    "B = cp.Variable(p)\n",
    "z = cp.Variable(p)\n",
    "s = cp.Variable(p)\n",
    "\n",
    "cons_box = [z>=0, z<=1, s>=0]\n",
    "cons_bigm = [B >= -M*z, B <= M*z]\n",
    "cons_conic = [z[i] >= cp.quad_over_lin(B[i], s[i]) for i in range(p)]\n",
    "constraints = cons_box + cons_bigm + cons_conic\n",
    "\n",
    "# Build the objective\n",
    "obj = cp.Minimize(0.5*cp.sum_squares(X*B - y) + lambda_0*cp.sum(z) + lambda_2*cp.sum(s))\n",
    "print(\"Built obj\")\n",
    "\n",
    "# Define the problem\n",
    "prob = cp.Problem(obj, constraints)\n",
    "print(\"Defined problem\")\n",
    "result = prob.solve(solver=cp.MOSEK, verbose=True)"
   ]
  },
  {
   "cell_type": "code",
   "execution_count": 135,
   "metadata": {},
   "outputs": [
    {
     "data": {
      "text/plain": [
       "array([-0.005     ,  0.005     , -0.005     ,  0.00194372,  0.005     ,\n",
       "        0.005     ,  0.005     ,  0.005     ,  0.005     ,  0.005     ])"
      ]
     },
     "execution_count": 135,
     "metadata": {},
     "output_type": "execute_result"
    }
   ],
   "source": [
    "B.value"
   ]
  },
  {
   "cell_type": "code",
   "execution_count": 131,
   "metadata": {},
   "outputs": [
    {
     "name": "stdout",
     "output_type": "stream",
     "text": [
      "Built obj\n",
      "Defined problem\n",
      "\n",
      "\n",
      "Problem\n",
      "  Name                   :                 \n",
      "  Objective sense        : min             \n",
      "  Type                   : CONIC (conic optimization problem)\n",
      "  Constraints            : 172             \n",
      "  Cones                  : 11              \n",
      "  Scalar variables       : 273             \n",
      "  Matrix variables       : 0               \n",
      "  Integer variables      : 0               \n",
      "\n",
      "Optimizer started.\n",
      "Problem\n",
      "  Name                   :                 \n",
      "  Objective sense        : min             \n",
      "  Type                   : CONIC (conic optimization problem)\n",
      "  Constraints            : 172             \n",
      "  Cones                  : 11              \n",
      "  Scalar variables       : 273             \n",
      "  Matrix variables       : 0               \n",
      "  Integer variables      : 0               \n",
      "\n",
      "Optimizer  - threads                : 24              \n",
      "Optimizer  - solved problem         : the primal      \n",
      "Optimizer  - Constraints            : 31\n",
      "Optimizer  - Cones                  : 11\n",
      "Optimizer  - Scalar variables       : 172               conic                  : 132             \n",
      "Optimizer  - Semi-definite variables: 0                 scalarized             : 0               \n",
      "Factor     - setup time             : 0.00              dense det. time        : 0.00            \n",
      "Factor     - ML order time          : 0.00              GP order time          : 0.00            \n",
      "Factor     - nonzeros before factor : 116               after factor           : 116             \n",
      "Factor     - dense dim.             : 0                 flops                  : 1.21e+04        \n",
      "ITE PFEAS    DFEAS    GFEAS    PRSTATUS   POBJ              DOBJ              MU       TIME  \n",
      "0   1.0e+00  4.0e+00  1.0e+00  0.00e+00   5.000000000e-01   5.000000000e-01   1.0e+00  0.00  \n",
      "1   3.7e-01  1.5e+00  3.4e-01  -2.69e-02  -1.887225658e+00  -1.587800075e+00  3.7e-01  0.02  \n",
      "2   1.8e-01  7.0e-01  1.7e-01  -1.36e-02  -1.009714422e+01  -9.580605092e+00  1.8e-01  0.02  \n",
      "3   8.7e-02  3.5e-01  8.7e-02  7.20e-02   -2.033768167e+01  -1.966570225e+01  8.7e-02  0.03  \n",
      "4   3.8e-02  1.5e-01  2.9e-02  4.21e-01   -3.368748274e+01  -3.325479565e+01  3.8e-02  0.03  \n",
      "5   2.1e-02  8.4e-02  1.9e-02  6.87e-03   -4.107963734e+01  -4.043868972e+01  2.1e-02  0.03  \n",
      "6   2.5e-03  1.0e-02  9.1e-04  6.99e-01   -5.975776319e+01  -5.964985226e+01  2.5e-03  0.03  \n",
      "7   6.1e-04  2.4e-03  1.3e-04  6.92e-01   -6.326694098e+01  -6.323009699e+01  6.1e-04  0.03  \n",
      "8   3.4e-05  1.4e-04  1.3e-06  1.03e+00   -6.432554303e+01  -6.432439744e+01  3.4e-05  0.03  \n",
      "9   7.9e-06  3.1e-05  1.2e-07  1.37e+00   -6.437694377e+01  -6.437677901e+01  7.9e-06  0.04  \n",
      "10  1.4e-06  5.7e-06  1.0e-08  1.20e+00   -6.438365969e+01  -6.438361767e+01  1.4e-06  0.04  \n",
      "11  2.5e-07  1.0e-06  7.6e-10  1.02e+00   -6.438525490e+01  -6.438524746e+01  2.5e-07  0.04  \n",
      "12  5.1e-08  2.1e-07  7.0e-11  1.00e+00   -6.438551673e+01  -6.438551520e+01  5.1e-08  0.04  \n",
      "13  1.7e-08  6.6e-08  1.3e-11  1.00e+00   -6.438557425e+01  -6.438557371e+01  1.7e-08  0.04  \n",
      "14  4.3e-10  1.7e-09  3.2e-14  1.00e+00   -6.438559517e+01  -6.438559515e+01  4.3e-10  0.04  \n",
      "Optimizer terminated. Time: 0.05    \n",
      "\n",
      "\n",
      "Interior-point solution summary\n",
      "  Problem status  : PRIMAL_AND_DUAL_FEASIBLE\n",
      "  Solution status : OPTIMAL\n",
      "  Primal.  obj: -6.4385595167e+01   nrm: 1e+02    Viol.  con: 9e-09    var: 0e+00    cones: 0e+00  \n",
      "  Dual.    obj: -6.4385595153e+01   nrm: 3e+01    Viol.  con: 1e-09    var: 4e-09    cones: 0e+00  \n"
     ]
    }
   ],
   "source": [
    "'''\n",
    "Dual of relaxation: Case 1.\n",
    "'''\n",
    "import cvxpy as cp\n",
    "import numpy as np\n",
    "\n",
    "n, p = X.shape\n",
    "\n",
    "alpha = cp.Variable(n)\n",
    "gamma = cp.Variable(p)\n",
    "eta = cp.Variable(p)\n",
    "\n",
    "\n",
    "cons_box = [gamma >= 0, eta >= 0]\n",
    "constraints = cons_box\n",
    "\n",
    "# Build the objective\n",
    "\n",
    "temp_exp = cp.sum(cp.pos(cp.square(X.T * alpha + gamma - eta)/(4*lambda_2)-lambda_0))\n",
    "obj = cp.Maximize(-0.5*cp.sum_squares(alpha) - temp_exp - alpha * y - M*cp.sum(gamma) - M*cp.sum(eta))\n",
    "print(\"Built obj\")\n",
    "\n",
    "# Define the problem\n",
    "prob = cp.Problem(obj, constraints)\n",
    "print(\"Defined problem\")\n",
    "result = prob.solve(solver=cp.MOSEK, verbose=True)"
   ]
  },
  {
   "cell_type": "code",
   "execution_count": 128,
   "metadata": {},
   "outputs": [
    {
     "data": {
      "text/plain": [
       "25.307306114858573"
      ]
     },
     "execution_count": 128,
     "metadata": {},
     "output_type": "execute_result"
    }
   ],
   "source": [
    "gamma[4].value"
   ]
  },
  {
   "cell_type": "code",
   "execution_count": 127,
   "metadata": {},
   "outputs": [
    {
     "name": "stdout",
     "output_type": "stream",
     "text": [
      "25.30729922585898\n"
     ]
    }
   ],
   "source": [
    "i = 4\n",
    "print(- 2*M*lambda_2 - np.dot(alpha.value, X[:,i]))"
   ]
  },
  {
   "cell_type": "code",
   "execution_count": 124,
   "metadata": {},
   "outputs": [
    {
     "name": "stdout",
     "output_type": "stream",
     "text": [
      "7.266161742171839\n",
      "7.266154051976771\n"
     ]
    }
   ],
   "source": [
    "i = 0\n",
    "print(eta[0].value)\n",
    "print(- 2*M*lambda_2 + np.dot(alpha.value, X[:,i]))"
   ]
  },
  {
   "cell_type": "code",
   "execution_count": 136,
   "metadata": {},
   "outputs": [
    {
     "name": "stdout",
     "output_type": "stream",
     "text": [
      "Built obj\n",
      "Defined problem\n",
      "\n",
      "\n",
      "Problem\n",
      "  Name                   :                 \n",
      "  Objective sense        : min             \n",
      "  Type                   : CONIC (conic optimization problem)\n",
      "  Constraints            : 152             \n",
      "  Cones                  : 1               \n",
      "  Scalar variables       : 233             \n",
      "  Matrix variables       : 0               \n",
      "  Integer variables      : 0               \n",
      "\n",
      "Optimizer started.\n",
      "Problem\n",
      "  Name                   :                 \n",
      "  Objective sense        : min             \n",
      "  Type                   : CONIC (conic optimization problem)\n",
      "  Constraints            : 152             \n",
      "  Cones                  : 1               \n",
      "  Scalar variables       : 233             \n",
      "  Matrix variables       : 0               \n",
      "  Integer variables      : 0               \n",
      "\n",
      "Optimizer  - threads                : 24              \n",
      "Optimizer  - solved problem         : the primal      \n",
      "Optimizer  - Constraints            : 11\n",
      "Optimizer  - Cones                  : 1\n",
      "Optimizer  - Scalar variables       : 132               conic                  : 102             \n",
      "Optimizer  - Semi-definite variables: 0                 scalarized             : 0               \n",
      "Factor     - setup time             : 0.00              dense det. time        : 0.00            \n",
      "Factor     - ML order time          : 0.00              GP order time          : 0.00            \n",
      "Factor     - nonzeros before factor : 66                after factor           : 66              \n",
      "Factor     - dense dim.             : 0                 flops                  : 1.17e+04        \n",
      "ITE PFEAS    DFEAS    GFEAS    PRSTATUS   POBJ              DOBJ              MU       TIME  \n",
      "0   1.0e+00  1.5e+00  1.0e+00  0.00e+00   5.000000000e-01   5.000000000e-01   1.0e+00  0.00  \n",
      "1   2.1e-01  3.1e-01  2.9e-01  -3.37e-01  -7.165563907e+00  -5.823194175e+00  2.1e-01  0.02  \n",
      "2   7.8e-02  1.2e-01  1.3e-01  -4.73e-01  -1.807950370e+01  -1.587636728e+01  7.8e-02  0.02  \n",
      "3   3.7e-02  5.6e-02  7.6e-02  -4.22e-01  -3.433697800e+01  -3.046952920e+01  3.7e-02  0.03  \n",
      "4   2.0e-02  3.1e-02  1.9e-02  1.08e+00   -4.238666639e+01  -4.164615694e+01  2.0e-02  0.03  \n",
      "5   1.1e-02  1.6e-02  1.2e-02  3.36e-02   -5.496137349e+01  -5.386270072e+01  1.1e-02  0.03  \n",
      "6   2.2e-03  3.4e-03  6.8e-04  1.70e+00   -6.038525856e+01  -6.031059272e+01  2.2e-03  0.03  \n",
      "7   6.2e-04  9.5e-04  1.0e-04  1.07e+00   -6.251802583e+01  -6.249571504e+01  6.2e-04  0.03  \n",
      "8   7.4e-05  1.1e-04  3.9e-06  1.25e+00   -6.305810432e+01  -6.305591454e+01  7.4e-05  0.03  \n",
      "9   1.4e-05  2.1e-05  3.1e-07  1.03e+00   -6.311329409e+01  -6.311289006e+01  1.4e-05  0.03  \n",
      "10  1.0e-06  1.6e-06  6.6e-09  1.01e+00   -6.312994411e+01  -6.312990958e+01  1.0e-06  0.04  \n",
      "11  4.7e-08  7.1e-08  6.4e-11  1.00e+00   -6.313099761e+01  -6.313099605e+01  4.7e-08  0.04  \n",
      "12  2.6e-09  3.8e-09  7.3e-13  1.00e+00   -6.313104751e+01  -6.313104743e+01  2.5e-09  0.04  \n",
      "Optimizer terminated. Time: 0.05    \n",
      "\n",
      "\n",
      "Interior-point solution summary\n",
      "  Problem status  : PRIMAL_AND_DUAL_FEASIBLE\n",
      "  Solution status : OPTIMAL\n",
      "  Primal.  obj: -6.3131047513e+01   nrm: 1e+02    Viol.  con: 3e-08    var: 0e+00    cones: 0e+00  \n",
      "  Dual.    obj: -6.3131047430e+01   nrm: 3e+01    Viol.  con: 7e-09    var: 2e-08    cones: 0e+00  \n"
     ]
    }
   ],
   "source": [
    "'''\n",
    "Dual of relaxation: Case 2.\n",
    "'''\n",
    "import cvxpy as cp\n",
    "import numpy as np\n",
    "\n",
    "n, p = X.shape\n",
    "\n",
    "alpha = cp.Variable(n)\n",
    "gamma = cp.Variable(p)\n",
    "eta = cp.Variable(p)\n",
    "\n",
    "\n",
    "cons_box = [gamma >= 0, eta >= 0]\n",
    "cons_linf = [cp.abs(X.T * alpha + gamma - eta) <= lambda_0/M + lambda_2*M]\n",
    "constraints = cons_box + cons_linf\n",
    "\n",
    "# Build the objective\n",
    "obj = cp.Maximize(-0.5*cp.sum_squares(alpha) - alpha * y - M*cp.sum(gamma) - M*cp.sum(eta))\n",
    "print(\"Built obj\")\n",
    "\n",
    "# Define the problem\n",
    "prob = cp.Problem(obj, constraints)\n",
    "print(\"Defined problem\")\n",
    "result = prob.solve(solver=cp.MOSEK, verbose=True)"
   ]
  },
  {
   "cell_type": "code",
   "execution_count": 141,
   "metadata": {},
   "outputs": [
    {
     "data": {
      "text/plain": [
       "array([1.20032633e-05, 6.91203600e+00, 1.16255788e-05, 3.10476486e-05,\n",
       "       5.26653293e+01, 2.05705379e+01, 7.84242940e+01, 1.44898555e+01,\n",
       "       8.45618297e+00, 2.05052955e+01])"
      ]
     },
     "execution_count": 141,
     "metadata": {},
     "output_type": "execute_result"
    }
   ],
   "source": [
    "gamma.value"
   ]
  },
  {
   "cell_type": "code",
   "execution_count": 146,
   "metadata": {},
   "outputs": [
    {
     "data": {
      "text/plain": [
       "array([3.10345800e+01, 8.43463285e-06, 2.07662774e+01, 2.56855232e-05,\n",
       "       1.21972257e-05, 1.15319860e-05, 1.23356050e-05, 1.09149841e-05,\n",
       "       9.21753623e-06, 1.16528510e-05])"
      ]
     },
     "execution_count": 146,
     "metadata": {},
     "output_type": "execute_result"
    }
   ],
   "source": [
    "eta.value"
   ]
  },
  {
   "cell_type": "code",
   "execution_count": 148,
   "metadata": {},
   "outputs": [
    {
     "data": {
      "text/plain": [
       "6.9130193615865245"
      ]
     },
     "execution_count": 148,
     "metadata": {},
     "output_type": "execute_result"
    }
   ],
   "source": [
    "# gamma\n",
    "i = 1\n",
    "- np.dot(alpha.value, X[:,i]) - lambda_0/M + lambda_2*M"
   ]
  },
  {
   "cell_type": "code",
   "execution_count": 145,
   "metadata": {},
   "outputs": [
    {
     "data": {
      "text/plain": [
       "31.034558364736455"
      ]
     },
     "execution_count": 145,
     "metadata": {},
     "output_type": "execute_result"
    }
   ],
   "source": [
    "# eta\n",
    "i=0\n",
    "np.dot(alpha.value, X[:,i]) - lambda_0/M - lambda_2*M"
   ]
  },
  {
   "cell_type": "code",
   "execution_count": 50,
   "metadata": {},
   "outputs": [
    {
     "data": {
      "text/plain": [
       "0.1"
      ]
     },
     "execution_count": 50,
     "metadata": {},
     "output_type": "execute_result"
    }
   ],
   "source": [
    "np.sqrt(0.001/0.1)"
   ]
  }
 ],
 "metadata": {
  "kernelspec": {
   "display_name": "Python 3",
   "language": "python",
   "name": "python3"
  },
  "language_info": {
   "codemirror_mode": {
    "name": "ipython",
    "version": 3
   },
   "file_extension": ".py",
   "mimetype": "text/x-python",
   "name": "python",
   "nbconvert_exporter": "python",
   "pygments_lexer": "ipython3",
   "version": "3.6.7"
  }
 },
 "nbformat": 4,
 "nbformat_minor": 2
}
