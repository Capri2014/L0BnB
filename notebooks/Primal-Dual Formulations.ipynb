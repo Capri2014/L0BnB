{
 "cells": [
  {
   "cell_type": "code",
   "execution_count": 1,
   "metadata": {},
   "outputs": [],
   "source": [
    "import sys\n",
    "sys.path.append(r\"C:\\Users\\aks14\\Documents\\l0bnb\")"
   ]
  },
  {
   "cell_type": "code",
   "execution_count": 2,
   "metadata": {},
   "outputs": [],
   "source": [
    "from scripts.generate_data import GenData\n",
    "\n",
    "dataset = \"I\"\n",
    "parameter = 0.9\n",
    "n = 100\n",
    "p = 10\n",
    "supp_size = 5\n",
    "snr = 1000\n",
    "\n",
    "X, y, coefs_true, cov = GenData(dataset, parameter, n, p, supp_size, snr)"
   ]
  },
  {
   "cell_type": "code",
   "execution_count": 3,
   "metadata": {},
   "outputs": [
    {
     "data": {
      "text/plain": [
       "array([-0.37345297,  0.        , -0.22417852,  0.        ,  0.69262183,\n",
       "        0.        ,  0.87107814,  0.        ,  0.        ,  0.33949207])"
      ]
     },
     "execution_count": 3,
     "metadata": {},
     "output_type": "execute_result"
    }
   ],
   "source": [
    "coefs_true"
   ]
  },
  {
   "cell_type": "code",
   "execution_count": 11,
   "metadata": {},
   "outputs": [
    {
     "name": "stdout",
     "output_type": "stream",
     "text": [
      "Built obj\n",
      "Defined problem\n",
      "\n",
      "\n",
      "Problem\n",
      "  Name                   :                 \n",
      "  Objective sense        : min             \n",
      "  Type                   : CONIC (conic optimization problem)\n",
      "  Constraints            : 192             \n",
      "  Cones                  : 11              \n",
      "  Scalar variables       : 173             \n",
      "  Matrix variables       : 0               \n",
      "  Integer variables      : 10              \n",
      "\n",
      "Optimizer started.\n",
      "Mixed integer optimizer started.\n",
      "Threads used: 4\n",
      "Presolve started.\n",
      "Presolve terminated. Time = 0.00\n",
      "Presolved problem: 162 variables, 151 constraints, 1222 non-zeros\n",
      "Presolved problem: 0 general integer, 10 binary, 152 continuous\n",
      "Clique table size: 0\n",
      "BRANCHES RELAXS   ACT_NDS  DEPTH    BEST_INT_OBJ         BEST_RELAX_OBJ       REL_GAP(%)  TIME  \n",
      "0        1        1        0        6.3131661667e+01     6.3131050134e+01     9.69e-04    0.0   \n",
      "An optimal solution satisfying the relative gap tolerance of 1.00e+00(%) has been located.\n",
      "The relative gap is 9.69e-04(%).\n",
      "\n",
      "Objective of best integer solution : 6.313166166696e+01      \n",
      "Best objective bound               : 6.313105013432e+01      \n",
      "Construct solution objective       : Not employed\n",
      "User objective cut value           : Not employed\n",
      "Number of cuts generated           : 0\n",
      "Number of branches                 : 0\n",
      "Number of relaxations solved       : 1\n",
      "Number of interior point iterations: 14\n",
      "Number of simplex iterations       : 0\n",
      "Time spend presolving the root     : 0.00\n",
      "Time spend optimizing the root     : 0.02\n",
      "Mixed integer optimizer terminated. Time: 0.03\n",
      "\n",
      "Optimizer terminated. Time: 0.05    \n",
      "\n",
      "\n",
      "Integer solution solution summary\n",
      "  Problem status  : PRIMAL_FEASIBLE\n",
      "  Solution status : INTEGER_OPTIMAL\n",
      "  Primal.  obj: 6.3131661667e+01    nrm: 1e+02    Viol.  con: 9e-09    var: 0e+00    cones: 0e+00    itg: 3e-07  \n"
     ]
    }
   ],
   "source": [
    "'''\n",
    "Primal of relaxation\n",
    "'''\n",
    "\n",
    "import cvxpy as cp\n",
    "import numpy as np\n",
    "from itertools import chain\n",
    "\n",
    "# lambda_0 = 0.001\n",
    "# lambda_2 = 0.1\n",
    "# M = 0.3\n",
    "\n",
    "lambda_0 = 0.001\n",
    "lambda_2 = 0.1\n",
    "M = 0.005\n",
    "\n",
    "\n",
    "\n",
    "n, p = X.shape\n",
    "\n",
    "B = cp.Variable(p)\n",
    "z = cp.Variable(p, boolean=True)\n",
    "s = cp.Variable(p)\n",
    "\n",
    "cons_box = [z>=0, z<=1, s>=0]\n",
    "cons_bigm = [B >= -M*z, B <= M*z]\n",
    "cons_conic = [z[i] >= cp.quad_over_lin(B[i], s[i]) for i in range(p)]\n",
    "constraints = cons_box + cons_bigm + cons_conic\n",
    "\n",
    "# Build the objective\n",
    "obj = cp.Minimize(0.5*cp.sum_squares(X*B - y) + lambda_0*cp.sum(z) + lambda_2*cp.sum(s))\n",
    "print(\"Built obj\")\n",
    "\n",
    "# Define the problem\n",
    "prob = cp.Problem(obj, constraints)\n",
    "print(\"Defined problem\")\n",
    "result = prob.solve(solver=cp.MOSEK, verbose=True, mosek_params={'MSK_DPAR_MIO_TOL_REL_GAP': 1e-2})"
   ]
  },
  {
   "cell_type": "code",
   "execution_count": 49,
   "metadata": {},
   "outputs": [
    {
     "data": {
      "text/plain": [
       "({'bool_vars_idx': [1, 2, 3, 4, 5, 6, 7, 8, 9, 10],\n",
       "  'int_vars_idx': [],\n",
       "  'c': array([0.5  , 0.001, 0.001, 0.001, 0.001, 0.001, 0.001, 0.001, 0.001,\n",
       "         0.001, 0.001, 0.1  , 0.1  , 0.1  , 0.1  , 0.1  , 0.1  , 0.1  ,\n",
       "         0.1  , 0.1  , 0.1  , 0.   , 0.   , 0.   , 0.   , 0.   , 0.   ,\n",
       "         0.   , 0.   , 0.   , 0.   , 0.   , 0.   , 0.   , 0.   , 0.   ,\n",
       "         0.   , 0.   , 0.   , 0.   , 0.   ]),\n",
       "  'obj_offset': 0.0,\n",
       "  'dims': {'q': [102, 3, 3, 3, 3, 3, 3, 3, 3, 3, 3],\n",
       "   'ep': [],\n",
       "   's': [],\n",
       "   'l': 60,\n",
       "   'f': 0},\n",
       "  'G': <192x41 sparse matrix of type '<class 'numpy.float64'>'\n",
       "  \twith 1142 stored elements in COOrdinate format>,\n",
       "  'h': array([-0.        , -0.        , -0.        , -0.        , -0.        ,\n",
       "         -0.        , -0.        , -0.        , -0.        , -0.        ,\n",
       "          1.        ,  1.        ,  1.        ,  1.        ,  1.        ,\n",
       "          1.        ,  1.        ,  1.        ,  1.        ,  1.        ,\n",
       "         -0.        , -0.        , -0.        , -0.        , -0.        ,\n",
       "         -0.        , -0.        , -0.        , -0.        , -0.        ,\n",
       "         -0.        , -0.        , -0.        , -0.        , -0.        ,\n",
       "         -0.        , -0.        , -0.        , -0.        , -0.        ,\n",
       "         -0.        , -0.        , -0.        , -0.        , -0.        ,\n",
       "         -0.        , -0.        , -0.        , -0.        , -0.        ,\n",
       "         -0.        , -0.        , -0.        , -0.        , -0.        ,\n",
       "         -0.        , -0.        , -0.        , -0.        , -0.        ,\n",
       "          1.        ,  1.        , -3.52857532, -1.47466183, -1.10688139,\n",
       "         -4.51276497,  0.52094943,  0.79674983,  0.40042299,  0.82712862,\n",
       "          4.6944044 ,  2.32464924, -4.18447082,  0.69579115, -0.92922958,\n",
       "          0.24252485,  0.00781667,  0.05084649,  0.29342729,  0.31842705,\n",
       "          0.98625951,  2.67991492,  2.1439839 , -2.33661504,  0.16191171,\n",
       "          4.46133765,  1.44532684,  2.71821492, -2.00469487,  1.74204764,\n",
       "         -5.22812004,  0.33957408, -0.71954321,  1.04217676, -2.9209004 ,\n",
       "         -1.76279909,  1.87113356, -2.9791176 ,  0.10936922, -0.11153674,\n",
       "         -1.05562468,  3.08203616, -0.35990027, -0.85018795,  2.20860097,\n",
       "         -0.86636861, -2.31318192,  2.9745769 ,  1.36668199, -0.3515026 ,\n",
       "          3.00214414,  1.4935872 , -3.40372451, -1.69043481, -1.28307405,\n",
       "         -0.2564778 ,  2.40404174,  0.5202307 ,  3.22277954, -1.41078493,\n",
       "         -0.96497046,  1.13190318,  3.09199884,  2.22679943, -1.41974622,\n",
       "          5.98682426,  0.47564492,  3.68994512, -2.71201789, -1.76206468,\n",
       "          1.18222664, -0.42107772, -0.63107343,  1.59885734, -2.52380732,\n",
       "          1.40734083, -1.16115784,  0.99618117, -1.40903653, -2.22879882,\n",
       "         -0.55330577, -0.47584396,  3.16654069,  6.07715356, -1.51714694,\n",
       "         -0.24842416,  1.69154655,  0.55157116,  2.17940818, -0.8619714 ,\n",
       "         -1.25653001, -1.15931083, -0.03496967, -3.7150578 , -4.13991628,\n",
       "         -2.59499727, -2.64866923, -0.51188002,  4.34077872,  0.68397653,\n",
       "         -3.14970886,  2.68704743,  0.        ,  0.        ,  0.        ,\n",
       "          0.        ,  0.        ,  0.        ,  0.        ,  0.        ,\n",
       "          0.        ,  0.        ,  0.        ,  0.        ,  0.        ,\n",
       "          0.        ,  0.        ,  0.        ,  0.        ,  0.        ,\n",
       "          0.        ,  0.        ,  0.        ,  0.        ,  0.        ,\n",
       "          0.        ,  0.        ,  0.        ,  0.        ,  0.        ,\n",
       "          0.        ,  0.        ])},\n",
       " Chain(reductions=[<cvxpy.reductions.dcp2cone.dcp2cone.Dcp2Cone object at 0x0000015C2FCAC3C8>, <cvxpy.reductions.cvx_attr2constr.CvxAttr2Constr object at 0x0000015C2FCCD488>, <cvxpy.reductions.dcp2cone.cone_matrix_stuffing.ConeMatrixStuffing object at 0x0000015C2C3D3388>, <cvxpy.reductions.solvers.conic_solvers.mosek_conif.MOSEK object at 0x0000015C2BEC0FC8>]),\n",
       " [<cvxpy.reductions.inverse_data.InverseData at 0x15c2fccd208>,\n",
       "  (),\n",
       "  <cvxpy.reductions.inverse_data.InverseData at 0x15c3407d088>,\n",
       "  {'var_id': 5246,\n",
       "   'suc_slacks': [(3802, 10),\n",
       "    (3806, 10),\n",
       "    (3810, 10),\n",
       "    (3816, 10),\n",
       "    (3822, 10),\n",
       "    (3830, 1),\n",
       "    (3838, 1),\n",
       "    (3846, 1),\n",
       "    (3854, 1),\n",
       "    (3862, 1),\n",
       "    (3870, 1),\n",
       "    (3878, 1),\n",
       "    (3886, 1),\n",
       "    (3894, 1),\n",
       "    (3902, 1)],\n",
       "   'y_slacks': [],\n",
       "   'snx_slacks': [(5304, 102),\n",
       "    (5347, 3),\n",
       "    (5366, 3),\n",
       "    (5385, 3),\n",
       "    (5404, 3),\n",
       "    (5423, 3),\n",
       "    (5442, 3),\n",
       "    (5461, 3),\n",
       "    (5480, 3),\n",
       "    (5499, 3),\n",
       "    (5518, 3)],\n",
       "   'psd_dims': [],\n",
       "   'integer_variables': True,\n",
       "   'n0': 41,\n",
       "   'obj_offset': 0.0,\n",
       "   'is_LP': False}])"
      ]
     },
     "execution_count": 49,
     "metadata": {},
     "output_type": "execute_result"
    }
   ],
   "source": [
    "prob.get_problem_data(cp.MOSEK) # ['solve_time']"
   ]
  },
  {
   "cell_type": "code",
   "execution_count": 135,
   "metadata": {},
   "outputs": [
    {
     "data": {
      "text/plain": [
       "array([-0.005     ,  0.005     , -0.005     ,  0.00194372,  0.005     ,\n",
       "        0.005     ,  0.005     ,  0.005     ,  0.005     ,  0.005     ])"
      ]
     },
     "execution_count": 135,
     "metadata": {},
     "output_type": "execute_result"
    }
   ],
   "source": [
    "B.value"
   ]
  },
  {
   "cell_type": "code",
   "execution_count": 10,
   "metadata": {},
   "outputs": [
    {
     "name": "stdout",
     "output_type": "stream",
     "text": [
      "Built obj\n",
      "Defined problem\n",
      "\n",
      "\n",
      "Problem\n",
      "  Name                   :                 \n",
      "  Objective sense        : min             \n",
      "  Type                   : CONIC (conic optimization problem)\n",
      "  Constraints            : 172             \n",
      "  Cones                  : 11              \n",
      "  Scalar variables       : 273             \n",
      "  Matrix variables       : 0               \n",
      "  Integer variables      : 0               \n",
      "\n",
      "Optimizer started.\n",
      "Problem\n",
      "  Name                   :                 \n",
      "  Objective sense        : min             \n",
      "  Type                   : CONIC (conic optimization problem)\n",
      "  Constraints            : 172             \n",
      "  Cones                  : 11              \n",
      "  Scalar variables       : 273             \n",
      "  Matrix variables       : 0               \n",
      "  Integer variables      : 0               \n",
      "\n",
      "Optimizer  - threads                : 4               \n",
      "Optimizer  - solved problem         : the primal      \n",
      "Optimizer  - Constraints            : 31\n",
      "Optimizer  - Cones                  : 11\n",
      "Optimizer  - Scalar variables       : 172               conic                  : 132             \n",
      "Optimizer  - Semi-definite variables: 0                 scalarized             : 0               \n",
      "Factor     - setup time             : 0.00              dense det. time        : 0.00            \n",
      "Factor     - ML order time          : 0.00              GP order time          : 0.00            \n",
      "Factor     - nonzeros before factor : 116               after factor           : 116             \n",
      "Factor     - dense dim.             : 0                 flops                  : 1.21e+04        \n",
      "ITE PFEAS    DFEAS    GFEAS    PRSTATUS   POBJ              DOBJ              MU       TIME  \n",
      "0   1.0e+00  4.0e+00  1.0e+00  0.00e+00   5.000000000e-01   5.000000000e-01   1.0e+00  0.01  \n",
      "1   3.7e-01  1.5e+00  3.4e-01  -2.37e-02  -1.842372170e+00  -1.547975427e+00  3.7e-01  0.03  \n",
      "2   1.8e-01  7.1e-01  1.7e-01  -3.84e-03  -9.995002961e+00  -9.491484467e+00  1.8e-01  0.03  \n",
      "3   9.7e-02  3.9e-01  9.8e-02  5.96e-02   -1.852880798e+01  -1.786226956e+01  9.7e-02  0.03  \n",
      "4   4.2e-02  1.7e-01  3.2e-02  4.39e-01   -3.219358531e+01  -3.179705815e+01  4.2e-02  0.03  \n",
      "5   2.3e-02  9.0e-02  2.0e-02  2.10e-02   -4.002689674e+01  -3.942283817e+01  2.3e-02  0.03  \n",
      "6   2.7e-03  1.1e-02  8.6e-04  7.33e-01   -5.846945305e+01  -5.838610273e+01  2.7e-03  0.03  \n",
      "7   1.4e-03  5.6e-03  3.6e-04  6.41e-01   -6.075771641e+01  -6.070333016e+01  1.4e-03  0.05  \n",
      "8   1.6e-04  6.3e-04  8.7e-06  1.24e+00   -6.289658234e+01  -6.289456487e+01  1.6e-04  0.05  \n",
      "9   1.9e-05  7.6e-05  3.6e-07  1.08e+00   -6.309971856e+01  -6.309949668e+01  1.9e-05  0.05  \n",
      "10  2.3e-06  9.0e-06  1.8e-08  1.03e+00   -6.311904373e+01  -6.311899371e+01  2.3e-06  0.05  \n",
      "11  5.5e-07  2.2e-06  2.4e-09  1.00e+00   -6.312172527e+01  -6.312170963e+01  5.5e-07  0.05  \n",
      "12  8.7e-08  3.5e-07  1.6e-10  1.00e+00   -6.312230896e+01  -6.312230632e+01  8.7e-08  0.05  \n",
      "13  8.3e-09  3.3e-08  4.6e-12  1.00e+00   -6.312241477e+01  -6.312241451e+01  8.3e-09  0.05  \n",
      "14  7.2e-10  3.7e-10  7.5e-14  1.00e+00   -6.312242594e+01  -6.312242595e+01  9.3e-11  0.05  \n",
      "Optimizer terminated. Time: 0.06    \n",
      "\n",
      "\n",
      "Interior-point solution summary\n",
      "  Problem status  : PRIMAL_AND_DUAL_FEASIBLE\n",
      "  Solution status : OPTIMAL\n",
      "  Primal.  obj: -6.3122425940e+01   nrm: 1e+02    Viol.  con: 2e-08    var: 0e+00    cones: 0e+00  \n",
      "  Dual.    obj: -6.3122425945e+01   nrm: 3e+01    Viol.  con: 3e-10    var: 7e-10    cones: 0e+00  \n"
     ]
    }
   ],
   "source": [
    "'''\n",
    "Dual of relaxation: Case 1.\n",
    "'''\n",
    "import cvxpy as cp\n",
    "import numpy as np\n",
    "\n",
    "n, p = X.shape\n",
    "\n",
    "alpha = cp.Variable(n)\n",
    "gamma = cp.Variable(p)\n",
    "eta = cp.Variable(p)\n",
    "\n",
    "\n",
    "cons_box = [gamma >= 0, eta >= 0]\n",
    "constraints = cons_box\n",
    "\n",
    "# Build the objective\n",
    "\n",
    "temp_exp = cp.sum(cp.pos(cp.square(X.T * alpha + gamma - eta)/(4*lambda_2)-lambda_0))\n",
    "obj = cp.Maximize(-0.5*cp.sum_squares(alpha) - temp_exp - alpha * y - M*cp.sum(gamma) - M*cp.sum(eta))\n",
    "print(\"Built obj\")\n",
    "\n",
    "# Define the problem\n",
    "prob = cp.Problem(obj, constraints)\n",
    "print(\"Defined problem\")\n",
    "result = prob.solve(solver=cp.MOSEK, verbose=True)"
   ]
  },
  {
   "cell_type": "code",
   "execution_count": 128,
   "metadata": {},
   "outputs": [
    {
     "data": {
      "text/plain": [
       "25.307306114858573"
      ]
     },
     "execution_count": 128,
     "metadata": {},
     "output_type": "execute_result"
    }
   ],
   "source": [
    "gamma[4].value"
   ]
  },
  {
   "cell_type": "code",
   "execution_count": 127,
   "metadata": {},
   "outputs": [
    {
     "name": "stdout",
     "output_type": "stream",
     "text": [
      "25.30729922585898\n"
     ]
    }
   ],
   "source": [
    "i = 4\n",
    "print(- 2*M*lambda_2 - np.dot(alpha.value, X[:,i]))"
   ]
  },
  {
   "cell_type": "code",
   "execution_count": 124,
   "metadata": {},
   "outputs": [
    {
     "name": "stdout",
     "output_type": "stream",
     "text": [
      "7.266161742171839\n",
      "7.266154051976771\n"
     ]
    }
   ],
   "source": [
    "i = 0\n",
    "print(eta[0].value)\n",
    "print(- 2*M*lambda_2 + np.dot(alpha.value, X[:,i]))"
   ]
  },
  {
   "cell_type": "code",
   "execution_count": 136,
   "metadata": {},
   "outputs": [
    {
     "name": "stdout",
     "output_type": "stream",
     "text": [
      "Built obj\n",
      "Defined problem\n",
      "\n",
      "\n",
      "Problem\n",
      "  Name                   :                 \n",
      "  Objective sense        : min             \n",
      "  Type                   : CONIC (conic optimization problem)\n",
      "  Constraints            : 152             \n",
      "  Cones                  : 1               \n",
      "  Scalar variables       : 233             \n",
      "  Matrix variables       : 0               \n",
      "  Integer variables      : 0               \n",
      "\n",
      "Optimizer started.\n",
      "Problem\n",
      "  Name                   :                 \n",
      "  Objective sense        : min             \n",
      "  Type                   : CONIC (conic optimization problem)\n",
      "  Constraints            : 152             \n",
      "  Cones                  : 1               \n",
      "  Scalar variables       : 233             \n",
      "  Matrix variables       : 0               \n",
      "  Integer variables      : 0               \n",
      "\n",
      "Optimizer  - threads                : 24              \n",
      "Optimizer  - solved problem         : the primal      \n",
      "Optimizer  - Constraints            : 11\n",
      "Optimizer  - Cones                  : 1\n",
      "Optimizer  - Scalar variables       : 132               conic                  : 102             \n",
      "Optimizer  - Semi-definite variables: 0                 scalarized             : 0               \n",
      "Factor     - setup time             : 0.00              dense det. time        : 0.00            \n",
      "Factor     - ML order time          : 0.00              GP order time          : 0.00            \n",
      "Factor     - nonzeros before factor : 66                after factor           : 66              \n",
      "Factor     - dense dim.             : 0                 flops                  : 1.17e+04        \n",
      "ITE PFEAS    DFEAS    GFEAS    PRSTATUS   POBJ              DOBJ              MU       TIME  \n",
      "0   1.0e+00  1.5e+00  1.0e+00  0.00e+00   5.000000000e-01   5.000000000e-01   1.0e+00  0.00  \n",
      "1   2.1e-01  3.1e-01  2.9e-01  -3.37e-01  -7.165563907e+00  -5.823194175e+00  2.1e-01  0.02  \n",
      "2   7.8e-02  1.2e-01  1.3e-01  -4.73e-01  -1.807950370e+01  -1.587636728e+01  7.8e-02  0.02  \n",
      "3   3.7e-02  5.6e-02  7.6e-02  -4.22e-01  -3.433697800e+01  -3.046952920e+01  3.7e-02  0.03  \n",
      "4   2.0e-02  3.1e-02  1.9e-02  1.08e+00   -4.238666639e+01  -4.164615694e+01  2.0e-02  0.03  \n",
      "5   1.1e-02  1.6e-02  1.2e-02  3.36e-02   -5.496137349e+01  -5.386270072e+01  1.1e-02  0.03  \n",
      "6   2.2e-03  3.4e-03  6.8e-04  1.70e+00   -6.038525856e+01  -6.031059272e+01  2.2e-03  0.03  \n",
      "7   6.2e-04  9.5e-04  1.0e-04  1.07e+00   -6.251802583e+01  -6.249571504e+01  6.2e-04  0.03  \n",
      "8   7.4e-05  1.1e-04  3.9e-06  1.25e+00   -6.305810432e+01  -6.305591454e+01  7.4e-05  0.03  \n",
      "9   1.4e-05  2.1e-05  3.1e-07  1.03e+00   -6.311329409e+01  -6.311289006e+01  1.4e-05  0.03  \n",
      "10  1.0e-06  1.6e-06  6.6e-09  1.01e+00   -6.312994411e+01  -6.312990958e+01  1.0e-06  0.04  \n",
      "11  4.7e-08  7.1e-08  6.4e-11  1.00e+00   -6.313099761e+01  -6.313099605e+01  4.7e-08  0.04  \n",
      "12  2.6e-09  3.8e-09  7.3e-13  1.00e+00   -6.313104751e+01  -6.313104743e+01  2.5e-09  0.04  \n",
      "Optimizer terminated. Time: 0.05    \n",
      "\n",
      "\n",
      "Interior-point solution summary\n",
      "  Problem status  : PRIMAL_AND_DUAL_FEASIBLE\n",
      "  Solution status : OPTIMAL\n",
      "  Primal.  obj: -6.3131047513e+01   nrm: 1e+02    Viol.  con: 3e-08    var: 0e+00    cones: 0e+00  \n",
      "  Dual.    obj: -6.3131047430e+01   nrm: 3e+01    Viol.  con: 7e-09    var: 2e-08    cones: 0e+00  \n"
     ]
    }
   ],
   "source": [
    "'''\n",
    "Dual of relaxation: Case 2.\n",
    "'''\n",
    "import cvxpy as cp\n",
    "import numpy as np\n",
    "\n",
    "n, p = X.shape\n",
    "\n",
    "alpha = cp.Variable(n)\n",
    "gamma = cp.Variable(p)\n",
    "eta = cp.Variable(p)\n",
    "\n",
    "\n",
    "cons_box = [gamma >= 0, eta >= 0]\n",
    "cons_linf = [cp.abs(X.T * alpha + gamma - eta) <= lambda_0/M + lambda_2*M]\n",
    "constraints = cons_box + cons_linf\n",
    "\n",
    "# Build the objective\n",
    "obj = cp.Maximize(-0.5*cp.sum_squares(alpha) - alpha * y - M*cp.sum(gamma) - M*cp.sum(eta))\n",
    "print(\"Built obj\")\n",
    "\n",
    "# Define the problem\n",
    "prob = cp.Problem(obj, constraints)\n",
    "print(\"Defined problem\")\n",
    "result = prob.solve(solver=cp.MOSEK, verbose=True)"
   ]
  },
  {
   "cell_type": "code",
   "execution_count": 141,
   "metadata": {},
   "outputs": [
    {
     "data": {
      "text/plain": [
       "array([1.20032633e-05, 6.91203600e+00, 1.16255788e-05, 3.10476486e-05,\n",
       "       5.26653293e+01, 2.05705379e+01, 7.84242940e+01, 1.44898555e+01,\n",
       "       8.45618297e+00, 2.05052955e+01])"
      ]
     },
     "execution_count": 141,
     "metadata": {},
     "output_type": "execute_result"
    }
   ],
   "source": [
    "gamma.value"
   ]
  },
  {
   "cell_type": "code",
   "execution_count": 146,
   "metadata": {},
   "outputs": [
    {
     "data": {
      "text/plain": [
       "array([3.10345800e+01, 8.43463285e-06, 2.07662774e+01, 2.56855232e-05,\n",
       "       1.21972257e-05, 1.15319860e-05, 1.23356050e-05, 1.09149841e-05,\n",
       "       9.21753623e-06, 1.16528510e-05])"
      ]
     },
     "execution_count": 146,
     "metadata": {},
     "output_type": "execute_result"
    }
   ],
   "source": [
    "eta.value"
   ]
  },
  {
   "cell_type": "code",
   "execution_count": 148,
   "metadata": {},
   "outputs": [
    {
     "data": {
      "text/plain": [
       "6.9130193615865245"
      ]
     },
     "execution_count": 148,
     "metadata": {},
     "output_type": "execute_result"
    }
   ],
   "source": [
    "# gamma\n",
    "i = 1\n",
    "- np.dot(alpha.value, X[:,i]) - lambda_0/M + lambda_2*M"
   ]
  },
  {
   "cell_type": "code",
   "execution_count": 145,
   "metadata": {},
   "outputs": [
    {
     "data": {
      "text/plain": [
       "31.034558364736455"
      ]
     },
     "execution_count": 145,
     "metadata": {},
     "output_type": "execute_result"
    }
   ],
   "source": [
    "# eta\n",
    "i=0\n",
    "np.dot(alpha.value, X[:,i]) - lambda_0/M - lambda_2*M"
   ]
  },
  {
   "cell_type": "code",
   "execution_count": 50,
   "metadata": {},
   "outputs": [
    {
     "data": {
      "text/plain": [
       "0.1"
      ]
     },
     "execution_count": 50,
     "metadata": {},
     "output_type": "execute_result"
    }
   ],
   "source": [
    "np.sqrt(0.001/0.1)"
   ]
  },
  {
   "cell_type": "code",
   "execution_count": 5,
   "metadata": {},
   "outputs": [
    {
     "data": {
      "text/plain": [
       "63.13166166695671"
      ]
     },
     "execution_count": 5,
     "metadata": {},
     "output_type": "execute_result"
    }
   ],
   "source": [
    "result.sol"
   ]
  },
  {
   "cell_type": "code",
   "execution_count": null,
   "metadata": {},
   "outputs": [],
   "source": []
  }
 ],
 "metadata": {
  "kernelspec": {
   "display_name": "Python 3",
   "language": "python",
   "name": "python3"
  },
  "language_info": {
   "codemirror_mode": {
    "name": "ipython",
    "version": 3
   },
   "file_extension": ".py",
   "mimetype": "text/x-python",
   "name": "python",
   "nbconvert_exporter": "python",
   "pygments_lexer": "ipython3",
   "version": "3.7.7"
  }
 },
 "nbformat": 4,
 "nbformat_minor": 2
}
