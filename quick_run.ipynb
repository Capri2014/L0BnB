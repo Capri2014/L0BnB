{
 "cells": [
  {
   "cell_type": "code",
   "execution_count": null,
   "metadata": {
    "scrolled": true
   },
   "outputs": [
    {
     "name": "stdout",
     "output_type": "stream",
     "text": [
      "Generating data!\n",
      "solving using 0 dfs levels\n",
      "0 (1296.6272055334568, 1296.957621527569) 2434.6989775741877 0.8777170239710547\n",
      "1 (1334.437181321911, 1335.6206503978624) 2434.6989775741877 0.8245137438109621\n",
      "2 (1371.0313926857518, 1371.6174526484142) 2434.6989775741877 0.7758156308914179\n",
      "3 (1402.9063953100574, 1403.1124462736234) 2434.6989775741877 0.7354678727771378\n"
     ]
    }
   ],
   "source": [
    "run scripts/quick_run.py"
   ]
  },
  {
   "cell_type": "code",
   "execution_count": null,
   "metadata": {
    "scrolled": false
   },
   "outputs": [
    {
     "name": "stdout",
     "output_type": "stream",
     "text": [
      "Solving for p = 10000\n",
      "generated data\n",
      "saved data\n",
      "saving config\n",
      "run the subprocess\n",
      "preocess ran\n",
      "0.00168854 0.2154435 0.796042259978184 9\n",
      "solving using 0 dfs levels\n",
      "0 (0.2036801352633834, 0.20371006726463448) 0.20517971865467743 0.007362443025456942\n",
      "solver: l0bnb, sol_time:0.483 seconds, Obj: 0.205, gap <= 0.00736, recovery error: 0.0\n",
      "\n",
      "\n",
      "Problem\n",
      "  Name                   :                 \n",
      "  Objective sense        : min             \n",
      "  Type                   : CONIC (conic optimization problem)\n",
      "  Constraints            : 91002           \n",
      "  Cones                  : 10001           \n",
      "  Scalar variables       : 71003           \n",
      "  Matrix variables       : 0               \n",
      "  Integer variables      : 10000           \n",
      "\n",
      "Optimizer started.\n",
      "Mixed integer optimizer started.\n",
      "Threads used: 4\n",
      "Presolve started.\n",
      "Presolve terminated. Time = 45.70\n",
      "Presolved problem: 61002 variables, 51001 constraints, 10121002 non-zeros\n",
      "Presolved problem: 0 general integer, 10000 binary, 51002 continuous\n",
      "Clique table size: 0\n",
      "BRANCHES RELAXS   ACT_NDS  DEPTH    BEST_INT_OBJ         BEST_RELAX_OBJ       REL_GAP(%)  TIME  \n",
      "0        1        1        0        1.7070491991e+01     2.0445901443e-01     98.80       78.3  \n",
      "0        1        1        0        2.0521131538e-01     2.0445901443e-01     0.37        1325.7\n",
      "An optimal solution satisfying the relative gap tolerance of 1.00e+00(%) has been located.\n",
      "The relative gap is 3.67e-01(%).\n",
      "\n",
      "Objective of best integer solution : 2.052113153815e-01      \n",
      "Best objective bound               : 2.044590144323e-01      \n",
      "Construct solution objective       : Not employed\n",
      "User objective cut value           : Not employed\n",
      "Number of cuts generated           : 0\n",
      "Number of branches                 : 0\n",
      "Number of relaxations solved       : 1\n",
      "Number of interior point iterations: 17\n",
      "Number of simplex iterations       : 0\n",
      "Time spend presolving the root     : 45.70\n",
      "Time spend optimizing the root     : 21.86\n",
      "Mixed integer optimizer terminated. Time: 1325.81\n",
      "\n",
      "Optimizer terminated. Time: 1326.03 \n",
      "\n",
      "\n",
      "Integer solution solution summary\n",
      "  Problem status  : PRIMAL_FEASIBLE\n",
      "  Solution status : INTEGER_OPTIMAL\n",
      "  Primal.  obj: 2.0521131538e-01    nrm: 1e+00    Viol.  con: 1e-05    var: 0e+00    cones: 2e-12    itg: 9e-06  \n",
      "solver: mosek, sol_time:2.02e+03 seconds, Obj: 0.205, gap <= 0.01, recovery error: 0.123\n",
      "Using license file C:\\Users\\aks14\\gurobi.lic\n",
      "Academic license - for non-commercial use only\n"
     ]
    }
   ],
   "source": [
    "run experiments/vary_p.py"
   ]
  },
  {
   "cell_type": "code",
   "execution_count": null,
   "metadata": {},
   "outputs": [
    {
     "name": "stdout",
     "output_type": "stream",
     "text": [
      "Solving for p = 100\n",
      "generated data\n",
      "saved data\n",
      "preocess ran\n",
      "0.000242168 0.05994843 0.81769952306445 10\n",
      "Solving for p = 1000\n",
      "generated data\n",
      "saved data\n",
      "preocess ran\n",
      "0.000194829 10.0 0.0558336772151988 10\n",
      "Solving for p = 10000\n",
      "generated data\n",
      "saved data\n",
      "preocess ran\n",
      "0.00168854 0.2154435 0.796042259978184 9\n",
      "Solving for p = 100000\n",
      "generated data\n",
      "saved data\n",
      "preocess ran\n",
      "0.000429286 10.0 0.0474565034355044 10\n",
      "Solving for p = 1000000\n",
      "generated data\n",
      "saved data\n"
     ]
    }
   ],
   "source": [
    "run experiments/run_l0learn.py"
   ]
  },
  {
   "cell_type": "code",
   "execution_count": 4,
   "metadata": {},
   "outputs": [
    {
     "data": {
      "text/plain": [
       "<module 'mosek' from 'c:\\\\users\\\\aks14\\\\appdata\\\\local\\\\programs\\\\python\\\\envs\\\\l0bnb\\\\lib\\\\site-packages\\\\mosek\\\\__init__.py'>"
      ]
     },
     "execution_count": 4,
     "metadata": {},
     "output_type": "execute_result"
    }
   ],
   "source": [
    "mosek"
   ]
  },
  {
   "cell_type": "code",
   "execution_count": null,
   "metadata": {},
   "outputs": [],
   "source": []
  }
 ],
 "metadata": {
  "kernelspec": {
   "display_name": "Python 3",
   "language": "python",
   "name": "python3"
  },
  "language_info": {
   "codemirror_mode": {
    "name": "ipython",
    "version": 3
   },
   "file_extension": ".py",
   "mimetype": "text/x-python",
   "name": "python",
   "nbconvert_exporter": "python",
   "pygments_lexer": "ipython3",
   "version": "3.7.7"
  }
 },
 "nbformat": 4,
 "nbformat_minor": 4
}
