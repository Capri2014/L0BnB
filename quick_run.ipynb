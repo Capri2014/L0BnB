{
 "cells": [
  {
   "cell_type": "code",
   "execution_count": null,
   "metadata": {
    "scrolled": true
   },
   "outputs": [
    {
     "name": "stdout",
     "output_type": "stream",
     "text": [
      "Generating data!\n",
      "solving using 0 dfs levels\n",
      "0 (1296.6272055334568, 1296.957621527569) 2434.6989775741877 0.8777170239710547\n",
      "1 (1334.437181321911, 1335.6206503978624) 2434.6989775741877 0.8245137438109621\n",
      "2 (1371.0313926857518, 1371.6174526484142) 2434.6989775741877 0.7758156308914179\n",
      "3 (1402.9063953100574, 1403.1124462736234) 2434.6989775741877 0.7354678727771378\n"
     ]
    }
   ],
   "source": [
    "run scripts/quick_run.py"
   ]
  },
  {
   "cell_type": "code",
   "execution_count": 1,
   "metadata": {
    "scrolled": false
   },
   "outputs": [
    {
     "name": "stdout",
     "output_type": "stream",
     "text": [
      "Solving for p = 100\n",
      "solver: l0bnb, sol_time:0.33 seconds, Obj: 8.61e+02, gap <= 3.5e-14, recovery error: 0.26\n",
      "solver: mosek, sol_time:13.8 seconds, Obj: 8.61e+02, gap <= 0.01, recovery error: 0.26\n",
      "Using license file C:\\Users\\aks14\\gurobi.lic\n",
      "Academic license - for non-commercial use only\n",
      "solver: gurobi, sol_time:60.6 seconds, Obj: 8.61e+02, gap <= 0.01, recovery error: 0.26\n",
      "--------------------------------------------------------------\n",
      "Solving for p = 1000\n",
      "solver: l0bnb, sol_time:0.329 seconds, Obj: 5.92e+02, gap <= 4.72e-14, recovery error: 0.491\n",
      "solver: mosek, sol_time:2.98e+02 seconds, Obj: 5.92e+02, gap <= 0.01, recovery error: 0.491\n",
      "solver: gurobi, sol_time:2.15e+03 seconds, Obj: 5.92e+02, gap <= 0.01, recovery error: 0.491\n",
      "--------------------------------------------------------------\n",
      "{'l0bnb': {100: {'obj': 860.8690068221196, 'sol_time': 0.32979583740234375, 'gap <=': 3.499604673589372e-14, 'rec_error': 0.2603488142281603}, 1000: {'obj': 592.1290563488902, 'sol_time': 0.3286430835723877, 'gap <=': 4.723119357115345e-14, 'rec_error': 0.49086834763442144}}, 'mosek': {100: {'obj': 860.8690097706111, 'sol_time': 13.848282098770142, 'gap <=': 0.01, 'rec_error': 0.2603488142281603}, 1000: {'obj': 592.1324579369553, 'sol_time': 298.35874795913696, 'gap <=': 0.01, 'rec_error': 0.49086834763442144}}, 'gurobi': {100: {'obj': 860.8690081366454, 'sol_time': 60.62234854698181, 'gap <=': 0.01, 'rec_error': 0.2603488142281603}, 1000: {'obj': 592.1290588370878, 'sol_time': 2151.2389850616455, 'gap <=': 0.01, 'rec_error': 0.49086834763442144}}}\n"
     ]
    }
   ],
   "source": [
    "run experiments/vary_p.py"
   ]
  },
  {
   "cell_type": "code",
   "execution_count": 2,
   "metadata": {},
   "outputs": [],
   "source": [
    "import mosek"
   ]
  },
  {
   "cell_type": "code",
   "execution_count": 4,
   "metadata": {},
   "outputs": [
    {
     "data": {
      "text/plain": [
       "<module 'mosek' from 'c:\\\\users\\\\aks14\\\\appdata\\\\local\\\\programs\\\\python\\\\envs\\\\l0bnb\\\\lib\\\\site-packages\\\\mosek\\\\__init__.py'>"
      ]
     },
     "execution_count": 4,
     "metadata": {},
     "output_type": "execute_result"
    }
   ],
   "source": [
    "mosek"
   ]
  },
  {
   "cell_type": "code",
   "execution_count": null,
   "metadata": {},
   "outputs": [],
   "source": []
  }
 ],
 "metadata": {
  "kernelspec": {
   "display_name": "Python 3",
   "language": "python",
   "name": "python3"
  },
  "language_info": {
   "codemirror_mode": {
    "name": "ipython",
    "version": 3
   },
   "file_extension": ".py",
   "mimetype": "text/x-python",
   "name": "python",
   "nbconvert_exporter": "python",
   "pygments_lexer": "ipython3",
   "version": "3.7.7"
  }
 },
 "nbformat": 4,
 "nbformat_minor": 4
}
